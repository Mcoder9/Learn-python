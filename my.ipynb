{
 "cells": [
  {
   "cell_type": "code",
   "execution_count": 15,
   "metadata": {},
   "outputs": [
    {
     "name": "stdout",
     "output_type": "stream",
     "text": [
      "Sum = 0\n"
     ]
    }
   ],
   "source": [
    "# 33. Write a Python program to sum of three given integers. However, if two values are equal sum will be zero.\n",
    "def sum_of_three_num(num1,num2,num3):\n",
    "    if num1==num2 or num2==num3 or num1==num3:\n",
    "        print(\"Sum = 0\")\n",
    "    else:\n",
    "        print('Sum of three numbers is %s'%(num1+num3+num2))\n",
    "sum_of_three_num(34,34,38)"
   ]
  },
  {
   "cell_type": "code",
   "execution_count": 23,
   "metadata": {},
   "outputs": [
    {
     "data": {
      "text/plain": [
       "True"
      ]
     },
     "execution_count": 23,
     "metadata": {},
     "output_type": "execute_result"
    }
   ],
   "source": [
    "# Write a Python program which will return true\n",
    "# if the two given integer values are equal or their sum or difference is 5.\n",
    "value = 5\n",
    "def check_nums(num1,num2):\n",
    "    if num1==num2 or abs(num1-num2)==value or num1+num2==value:\n",
    "        return True\n",
    "    else:\n",
    "        return False\n",
    "check_nums(10,5)"
   ]
  },
  {
   "cell_type": "code",
   "execution_count": 28,
   "metadata": {},
   "outputs": [
    {
     "data": {
      "text/plain": [
       "16"
      ]
     },
     "execution_count": 28,
     "metadata": {},
     "output_type": "execute_result"
    }
   ],
   "source": [
    "# Write a Python program to add two objects if both objects are an integer type.\n",
    "def check_integers(object1,object2):\n",
    "    if isinstance(object1,int)and isinstance(object2,int):\n",
    "        return object1+object2\n",
    "    else:\n",
    "        raise TypeError(\"Inputs must be integers\")\n",
    "check_integers(8,8)"
   ]
  },
  {
   "cell_type": "code",
   "execution_count": 31,
   "metadata": {},
   "outputs": [],
   "source": [
    "# Write a Python program to display your details like name, age, address in three different lines.\n",
    "def personal_info():\n",
    "    name,age = \"Ghulam Mustafa\",22\n",
    "    address = \"Lala Nazir Town,Fortabbas,Bahawalnagar Punjab,Pakistan\"\n",
    "    print('Name : %s\\nAge : %s\\nAddress : %s'%(name,age,address))"
   ]
  },
  {
   "cell_type": "code",
   "execution_count": 32,
   "metadata": {},
   "outputs": [
    {
     "name": "stdout",
     "output_type": "stream",
     "text": [
      "Name : Ghulam Mustafa\n",
      "Age : 22\n",
      "Address : Lala Nazir Town,Fortabbas,Bahawalnagar Punjab,Pakistan\n"
     ]
    }
   ],
   "source": [
    "personal_info()"
   ]
  },
  {
   "cell_type": "code",
   "execution_count": 33,
   "metadata": {},
   "outputs": [
    {
     "name": "stdout",
     "output_type": "stream",
     "text": [
      "Name : Ghulam Mustafa\n",
      "Age : 22\n",
      "Address : Lala Nazir Town,Fortabbas,Bahawalnagar Punjab,Pakistan\n"
     ]
    }
   ],
   "source": [
    "personal_info()"
   ]
  },
  {
   "cell_type": "code",
   "execution_count": 13,
   "metadata": {},
   "outputs": [
    {
     "data": {
      "text/plain": [
       "True"
      ]
     },
     "execution_count": 13,
     "metadata": {},
     "output_type": "execute_result"
    }
   ],
   "source": [
    "import webbrowser,sys,pyperclip\n",
    "if len(sys.argv)>1:\n",
    "    address = ''.join(sys.argv[1:])\n",
    "else:\n",
    "    address = pyperclip.paste()\n",
    "webbrowser.open('https://www.google.com/maps/place/%s'%address)"
   ]
  },
  {
   "cell_type": "code",
   "execution_count": null,
   "metadata": {},
   "outputs": [],
   "source": [
    "# open a bunch of links\n",
    "import os,webbrowser\n",
    "os.getcwd()\n",
    "linkfile = open('C:/Users/Mgcoder/Desktop/weblinks.txt')\n",
    "for link in linkfile.readlines():\n",
    "    #webbrowser.open(link)\n",
    "    print(link)\n"
   ]
  },
  {
   "cell_type": "code",
   "execution_count": 3,
   "metadata": {},
   "outputs": [],
   "source": [
    "import requests\n",
    "res = requests.get('https://automatetheboringstuff.com/files/rj.txt')\n",
    "res.raise_for_status()\n",
    "poem = open('poem.txt','wb')\n",
    "for chunk in res.iter_content(100000):\n",
    "    poem.write(chunk)\n",
    "poem.close()\n"
   ]
  },
  {
   "cell_type": "code",
   "execution_count": null,
   "metadata": {},
   "outputs": [],
   "source": [
    "poem = open('poem.txt','r')\n",
    "print(poem.read())\n",
    "#poem.close()\n"
   ]
  },
  {
   "cell_type": "code",
   "execution_count": null,
   "metadata": {},
   "outputs": [],
   "source": [
    "import bs4,requests\n",
    "res = requests.get('https://nostarch.com/beyond-basic-stuff-python')\n",
    "res.raise_for_status()\n",
    "bs4.BeautifulSoup(res.text)\n"
   ]
  },
  {
   "cell_type": "code",
   "execution_count": 17,
   "metadata": {},
   "outputs": [
    {
     "name": "stdout",
     "output_type": "stream",
     "text": [
      "[]\n"
     ]
    }
   ],
   "source": [
    "import bs4,requests\n",
    "get_html = requests.get('https://nostarch.com/real-world-python')\n",
    "get_html.raise_for_status()\n",
    "bs4_object = bs4.BeautifulSoup(get_html.text,'html.parser')\n",
    "print(bs4_object.select('html.js body.html.not-front.not-logged-in.two-sidebars.page-node.page-node-.page-node-560.node-type-product.uc-product-node div.main-container.container div.row section.col-sm-6 div.region.region-content section#block-system-main.block.block-system.clearfix div.ds-1col.node.node-product.node-promoted.view-mode-full.clearfix div div.add-to-cart form#uc-product-add-to-cart-form-560 div div#uc_product_add_to_cart_form-560-attributes.attributes div.attribute.attribute-1.odd div.form-item.form-item-attributes-1.form-type-radios.form-group div#edit-attributes-1.form-radios div.form-item.form-item-attributes-1.form-type-radio.radio label.control-label'))"
   ]
  },
  {
   "cell_type": "code",
   "execution_count": 3,
   "metadata": {},
   "outputs": [
    {
     "data": {
      "text/plain": [
       "['.android',\n",
       " '.conda',\n",
       " '.idlerc',\n",
       " '.ipynb_checkpoints',\n",
       " '.ipython',\n",
       " '.jupyter',\n",
       " '.Ld2VirtualBox',\n",
       " '3D Objects',\n",
       " 'Anaconda3',\n",
       " 'AppData',\n",
       " 'Application Data',\n",
       " 'Chapter 11.ipynb',\n",
       " 'Contacts',\n",
       " 'Cookies',\n",
       " 'Desktop',\n",
       " 'Documents',\n",
       " 'Downloads',\n",
       " 'example.html',\n",
       " 'Favorites',\n",
       " 'html - RegEx match open tags except XHTML self-contained tags - Stack Overflow_files',\n",
       " 'IntelGraphicsProfiles',\n",
       " 'Links',\n",
       " 'Local Settings',\n",
       " 'MicrosoftEdgeBackups',\n",
       " 'Music',\n",
       " 'My Documents',\n",
       " 'NetHood',\n",
       " 'NTUSER.DAT',\n",
       " 'ntuser.dat.LOG1',\n",
       " 'ntuser.dat.LOG2',\n",
       " 'NTUSER.DAT{d3ff6412-3e4f-11eb-bf66-10604b8353a2}.TM.blf',\n",
       " 'NTUSER.DAT{d3ff6412-3e4f-11eb-bf66-10604b8353a2}.TMContainer00000000000000000001.regtrans-ms',\n",
       " 'NTUSER.DAT{d3ff6412-3e4f-11eb-bf66-10604b8353a2}.TMContainer00000000000000000002.regtrans-ms',\n",
       " 'ntuser.ini',\n",
       " 'OneDrive',\n",
       " 'Pictures',\n",
       " 'poem.txt',\n",
       " 'PrintHood',\n",
       " 'Recent',\n",
       " 'Saved Games',\n",
       " 'Searches',\n",
       " 'SendTo',\n",
       " 'Start Menu',\n",
       " 'Templates',\n",
       " 'Untitled.ipynb',\n",
       " 'Videos']"
      ]
     },
     "execution_count": 3,
     "metadata": {},
     "output_type": "execute_result"
    }
   ],
   "source": [
    "import os\n",
    "os.listdir()"
   ]
  },
  {
   "cell_type": "code",
   "execution_count": null,
   "metadata": {},
   "outputs": [],
   "source": []
  }
 ],
 "metadata": {
  "kernelspec": {
   "display_name": "Python 3",
   "language": "python",
   "name": "python3"
  },
  "language_info": {
   "codemirror_mode": {
    "name": "ipython",
    "version": 3
   },
   "file_extension": ".py",
   "mimetype": "text/x-python",
   "name": "python",
   "nbconvert_exporter": "python",
   "pygments_lexer": "ipython3",
   "version": "3.8.3"
  }
 },
 "nbformat": 4,
 "nbformat_minor": 4
}
